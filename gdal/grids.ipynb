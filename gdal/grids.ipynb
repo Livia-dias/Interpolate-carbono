{
 "cells": [
  {
   "cell_type": "code",
   "execution_count": 25,
   "metadata": {},
   "outputs": [],
   "source": [
    "from osgeo import gdal\n",
    "from osgeo import ogr\n",
    "import os\n",
    "\n",
    "path = os.getcwd() + '\\Dados vetoriais\\Pontos amostrais_Piracicaba\\Dados_227pts_original_06_03_2021.shp'\n",
    "\n",
    "\n",
    "pts = ogr.Open(path, 0)\n",
    "layer = pts.GetLayer()\n"
   ]
  },
  {
   "cell_type": "code",
   "execution_count": 26,
   "metadata": {},
   "outputs": [],
   "source": [
    "\n",
    "path2 = os.getcwd() + '\\Dados vetoriais\\Piracicaba\\piraciacaba.tif'\n",
    "piracicaba = gdal.Open(path2)\n",
    "gt = piracicaba.GetGeoTransform()"
   ]
  },
  {
   "cell_type": "code",
   "execution_count": 27,
   "metadata": {},
   "outputs": [],
   "source": [
    "ulx = gt[0] #coordenada X do canto esquerdo de cima\n",
    "uly = gt[3] #coordenada Y do canto esquerdo de cima\n",
    "res = gt[1] #resolução/tamanho do pixel\n",
    "\n",
    "xsize = piracicaba.RasterXSize\n",
    "ysize = piracicaba.RasterYSize\n",
    "\n",
    "lrx = ulx + xsize * res\n",
    "lry = uly - ysize * res\n",
    "\n",
    "piracicaba = None\n",
    "pts = layer = None\n",
    "\n",
    "# nearest neighbor interpolation    \n",
    "nn = gdal.Grid(\"nearest_r10.tif\", path, zfield=\"Argila\",\n",
    "               algorithm = \"nearest:radius1=10000:radius2=10000\", outputBounds = [ulx,uly,lrx,lry],\n",
    "               width = xsize, height = ysize)\n",
    "nn = None\n",
    "\n",
    "# moving average\n",
    "ma = gdal.Grid(\"average_r10.tif\", path, zfield=\"Argila\",\n",
    "               algorithm = \"average:radius1=10000:radius2=10000:angle=0\",\n",
    "               outputBounds = [ulx,uly,lrx,lry],\n",
    "               width = xsize, height = ysize)\n",
    "ma = None\n",
    "\n",
    "# inverse distance to a power\n",
    "idw = gdal.Grid(\"invdist_sm50r20.tif\", path, zfield = \"Argila\",\n",
    "                algorithm = \"invdist:power=4:radius1=20000:radius2=20000:smoothing=100\",\n",
    "                outputBounds = [ulx,uly,lrx,lry],\n",
    "                width = xsize, height = ysize)\n",
    "idw = None\n",
    "\n",
    "# linear interpolation\n",
    "lin = gdal.Grid(\"linear.tif\", path, zfield = \"Argila\",\n",
    "                algorithm = \"linear\",\n",
    "                outputBounds = [ulx,uly,lrx,lry],\n",
    "                width = xsize, height = ysize)\n",
    "lin = None\n",
    "\n",
    "# inverse distance to a power with nearest neighbor\n",
    "idwnn = gdal.Grid(\"invdistnn_r10.tif\", path, zfield = \"Argila\",\n",
    "                algorithm = \"invdistnn:power=4:radius=10000:smoothing=50\",\n",
    "                outputBounds = [ulx,uly,lrx,lry],\n",
    "                width = xsize, height = ysize)\n",
    "idwnn = None"
   ]
  }
 ],
 "metadata": {
  "kernelspec": {
   "display_name": "Python 3.10.5 64-bit",
   "language": "python",
   "name": "python3"
  },
  "language_info": {
   "codemirror_mode": {
    "name": "ipython",
    "version": 3
   },
   "file_extension": ".py",
   "mimetype": "text/x-python",
   "name": "python",
   "nbconvert_exporter": "python",
   "pygments_lexer": "ipython3",
   "version": "3.10.5"
  },
  "orig_nbformat": 4,
  "vscode": {
   "interpreter": {
    "hash": "369f2c481f4da34e4445cda3fffd2e751bd1c4d706f27375911949ba6bb62e1c"
   }
  }
 },
 "nbformat": 4,
 "nbformat_minor": 2
}
