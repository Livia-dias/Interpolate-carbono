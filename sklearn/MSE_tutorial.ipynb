{
 "cells": [
  {
   "cell_type": "code",
   "execution_count": 1,
   "metadata": {},
   "outputs": [],
   "source": [
    "import numpy as np\n",
    "import matplotlib.pyplot as plt\n",
    "import pandas as pd\n",
    "from sklearn.svm import SVR\n",
    "import os\n",
    "import geopandas as gpd\n",
    "from tobler.area_weighted import area_interpolate\n",
    "from tobler.dasymetric import masked_area_interpolate\n",
    "import math\n",
    "import itertools\n",
    "import optunity\n",
    "import optunity.metrics\n",
    "import sklearn.svm\n",
    "\n",
    "\n",
    "from geocube.api.core import make_geocube\n",
    "from geocube.rasterize import rasterize_points_griddata\n",
    "import rasterio"
   ]
  },
  {
   "cell_type": "code",
   "execution_count": 2,
   "metadata": {},
   "outputs": [],
   "source": [
    "path = os.getcwd()+ '\\..\\Dados vetoriais\\Pontos amostrais_Piracicaba\\Dados_227pts_original_06_03_2021.shp'\n",
    "pontos_pira = gpd.read_file(path)"
   ]
  },
  {
   "cell_type": "code",
   "execution_count": 3,
   "metadata": {},
   "outputs": [],
   "source": [
    "path2 = os.getcwd()+ '\\..\\Dados vetoriais\\Piracicaba\\Perimetro_Piracicaba.shp'\n",
    "perimetro_pira = gpd.read_file(path2)\n"
   ]
  },
  {
   "cell_type": "code",
   "execution_count": 4,
   "metadata": {},
   "outputs": [],
   "source": [
    "xizes = []\n",
    "ypsolons = []\n",
    "\n",
    "for geom in perimetro_pira.exterior:\n",
    "    if(geom == None):\n",
    "        continue\n",
    "    xizes.append(geom.coords.xy[0])\n",
    "    ypsolons.append(geom.coords.xy[1])\n",
    "\n",
    "xizes = list(np.concatenate(xizes).flat)\n",
    "ypsolons = list(np.concatenate(ypsolons).flat)\n",
    "\n",
    "all_dots = [list(xy) for xy in zip(xizes, ypsolons)]"
   ]
  },
  {
   "cell_type": "code",
   "execution_count": 5,
   "metadata": {},
   "outputs": [],
   "source": [
    "# split the data into featutes and target variable seperately\n",
    "variaveis = pontos_pira.iloc[:, [1,2]].values # features set\n",
    "argila = pontos_pira.iloc[:, 6].values # set of study variable"
   ]
  },
  {
   "cell_type": "code",
   "execution_count": 6,
   "metadata": {},
   "outputs": [],
   "source": [
    "argila = argila.reshape(-1,1)"
   ]
  },
  {
   "cell_type": "code",
   "execution_count": 7,
   "metadata": {},
   "outputs": [],
   "source": [
    "from sklearn.preprocessing import StandardScaler\n",
    "StdS_X = StandardScaler()\n",
    "StdS_y = StandardScaler()\n",
    "variaveis = StdS_X.fit_transform(variaveis)\n",
    "argila = StdS_y.fit_transform(argila)"
   ]
  },
  {
   "cell_type": "markdown",
   "metadata": {},
   "source": [
    "# Mean Squared Error Cross Validation"
   ]
  },
  {
   "cell_type": "code",
   "execution_count": 8,
   "metadata": {},
   "outputs": [],
   "source": [
    "outer_cv = optunity.cross_validated(x=variaveis, y=argila.ravel(), num_folds=5)\n",
    "\n",
    "def compute_mse_standard(x_train, y_train, x_test, y_test):\n",
    "    \"\"\"Computes MSE of an SVR with RBF kernel and default hyperparameters.\n",
    "    \"\"\"\n",
    "    model = sklearn.svm.SVR().fit(x_train, y_train)\n",
    "    predictions = model.predict(x_test)\n",
    "    return optunity.metrics.mse(y_test, predictions)\n",
    "\n",
    "# wrap with outer cross-validation\n",
    "compute_mse_standard = outer_cv(compute_mse_standard)"
   ]
  },
  {
   "cell_type": "code",
   "execution_count": 9,
   "metadata": {},
   "outputs": [
    {
     "data": {
      "text/plain": [
       "0.9032012436734338"
      ]
     },
     "execution_count": 9,
     "metadata": {},
     "output_type": "execute_result"
    }
   ],
   "source": [
    "compute_mse_standard()"
   ]
  },
  {
   "cell_type": "markdown",
   "metadata": {},
   "source": [
    "# Determining the kernel family during tuning\n",
    "https://optunity.readthedocs.io/en/latest/notebooks/notebooks/sklearn-svr.html"
   ]
  },
  {
   "cell_type": "code",
   "execution_count": 10,
   "metadata": {},
   "outputs": [],
   "source": [
    "space = {'kernel': {'linear': {'C': [0, 100]},\n",
    "                    'rbf': {'gamma': [0, 50], 'C': [1, 100]},\n",
    "                    'poly': {'degree': [2, 5], 'C': [1000, 20000], 'coef0': [0, 1]}\n",
    "                    }\n",
    "         }"
   ]
  },
  {
   "cell_type": "code",
   "execution_count": 11,
   "metadata": {},
   "outputs": [],
   "source": [
    "def compute_mse_all_tuned(x_train, y_train, x_test, y_test):\n",
    "    \"\"\"Computes MSE of an SVR with RBF kernel and optimized hyperparameters.\"\"\"\n",
    "\n",
    "    # define objective function for tuning\n",
    "    @optunity.cross_validated(x=x_train, y=y_train, num_iter=2, num_folds=5)\n",
    "    def tune_cv(x_train, y_train, x_test, y_test, kernel, C, gamma, degree, coef0):\n",
    "        if kernel == 'linear':\n",
    "            model = sklearn.svm.SVR(kernel=kernel, C=C)\n",
    "        elif kernel == 'poly':\n",
    "            model = sklearn.svm.SVR(kernel=kernel, C=C, degree=degree, coef0=coef0)\n",
    "        elif kernel == 'rbf':\n",
    "            model = sklearn.svm.SVR(kernel=kernel, C=C, gamma=gamma)\n",
    "        else:\n",
    "            raise ArgumentError(\"Unknown kernel function: %s\" % kernel)\n",
    "        model.fit(x_train, y_train)\n",
    "\n",
    "        predictions = model.predict(x_test)\n",
    "        return optunity.metrics.mse(y_test, predictions)\n",
    "\n",
    "    # optimize parameters\n",
    "    optimal_pars, _, _ = optunity.minimize_structured(tune_cv, num_evals=150, search_space=space)\n",
    "\n",
    "    # remove hyperparameters with None value from optimal pars\n",
    "    for k, v in optimal_pars.items():\n",
    "        if v is None: del optimal_pars[k]\n",
    "    print(\"optimal hyperparameters: \" + str(optimal_pars))\n",
    "\n",
    "    tuned_model = sklearn.svm.SVR(**optimal_pars).fit(x_train, y_train)\n",
    "    predictions = tuned_model.predict(x_test)\n",
    "    return optunity.metrics.mse(y_test, predictions)\n",
    "\n",
    "# wrap with outer cross-validation\n",
    "compute_mse_all_tuned = outer_cv(compute_mse_all_tuned)"
   ]
  },
  {
   "cell_type": "code",
   "execution_count": 12,
   "metadata": {},
   "outputs": [
    {
     "ename": "KeyboardInterrupt",
     "evalue": "",
     "output_type": "error",
     "traceback": [
      "\u001b[1;31m---------------------------------------------------------------------------\u001b[0m",
      "\u001b[1;31mKeyboardInterrupt\u001b[0m                         Traceback (most recent call last)",
      "\u001b[1;32md:\\Projetos\\Interpolate-carbono\\sklearn\\MSE_tutorial.ipynb Cell 14\u001b[0m in \u001b[0;36m<cell line: 1>\u001b[1;34m()\u001b[0m\n\u001b[1;32m----> <a href='vscode-notebook-cell:/d%3A/Projetos/Interpolate-carbono/sklearn/MSE_tutorial.ipynb#X16sZmlsZQ%3D%3D?line=0'>1</a>\u001b[0m compute_mse_all_tuned()\n",
      "File \u001b[1;32mc:\\Python310\\lib\\site-packages\\optunity\\cross_validation.py:403\u001b[0m, in \u001b[0;36mcross_validated_callable.__call__\u001b[1;34m(self, *args, **kwargs)\u001b[0m\n\u001b[0;32m    401\u001b[0m             kwargs[\u001b[39m'\u001b[39m\u001b[39my_train\u001b[39m\u001b[39m'\u001b[39m] \u001b[39m=\u001b[39m select(\u001b[39mself\u001b[39m\u001b[39m.\u001b[39my, rows_train)\n\u001b[0;32m    402\u001b[0m             kwargs[\u001b[39m'\u001b[39m\u001b[39my_test\u001b[39m\u001b[39m'\u001b[39m] \u001b[39m=\u001b[39m select(\u001b[39mself\u001b[39m\u001b[39m.\u001b[39my, rows_test)\n\u001b[1;32m--> 403\u001b[0m         scores\u001b[39m.\u001b[39mappend(\u001b[39mself\u001b[39m\u001b[39m.\u001b[39mf(\u001b[39m*\u001b[39m\u001b[39m*\u001b[39mkwargs))\n\u001b[0;32m    404\u001b[0m \u001b[39mreturn\u001b[39;00m \u001b[39mself\u001b[39m\u001b[39m.\u001b[39mreduce(scores)\n",
      "\u001b[1;32md:\\Projetos\\Interpolate-carbono\\sklearn\\MSE_tutorial.ipynb Cell 14\u001b[0m in \u001b[0;36mcompute_mse_all_tuned\u001b[1;34m(x_train, y_train, x_test, y_test)\u001b[0m\n\u001b[0;32m     <a href='vscode-notebook-cell:/d%3A/Projetos/Interpolate-carbono/sklearn/MSE_tutorial.ipynb#X16sZmlsZQ%3D%3D?line=17'>18</a>\u001b[0m     \u001b[39mreturn\u001b[39;00m optunity\u001b[39m.\u001b[39mmetrics\u001b[39m.\u001b[39mmse(y_test, predictions)\n\u001b[0;32m     <a href='vscode-notebook-cell:/d%3A/Projetos/Interpolate-carbono/sklearn/MSE_tutorial.ipynb#X16sZmlsZQ%3D%3D?line=19'>20</a>\u001b[0m \u001b[39m# optimize parameters\u001b[39;00m\n\u001b[1;32m---> <a href='vscode-notebook-cell:/d%3A/Projetos/Interpolate-carbono/sklearn/MSE_tutorial.ipynb#X16sZmlsZQ%3D%3D?line=20'>21</a>\u001b[0m optimal_pars, _, _ \u001b[39m=\u001b[39m optunity\u001b[39m.\u001b[39;49mminimize_structured(tune_cv, num_evals\u001b[39m=\u001b[39;49m\u001b[39m150\u001b[39;49m, search_space\u001b[39m=\u001b[39;49mspace)\n\u001b[0;32m     <a href='vscode-notebook-cell:/d%3A/Projetos/Interpolate-carbono/sklearn/MSE_tutorial.ipynb#X16sZmlsZQ%3D%3D?line=22'>23</a>\u001b[0m \u001b[39m# remove hyperparameters with None value from optimal pars\u001b[39;00m\n\u001b[0;32m     <a href='vscode-notebook-cell:/d%3A/Projetos/Interpolate-carbono/sklearn/MSE_tutorial.ipynb#X16sZmlsZQ%3D%3D?line=23'>24</a>\u001b[0m \u001b[39mfor\u001b[39;00m k, v \u001b[39min\u001b[39;00m optimal_pars\u001b[39m.\u001b[39mitems():\n",
      "File \u001b[1;32mc:\\Python310\\lib\\site-packages\\optunity\\api.py:401\u001b[0m, in \u001b[0;36mminimize_structured\u001b[1;34m(f, search_space, num_evals, pmap)\u001b[0m\n\u001b[0;32m    399\u001b[0m suggestion \u001b[39m=\u001b[39m suggest_solver(num_evals, \u001b[39m\"\u001b[39m\u001b[39mparticle swarm\u001b[39m\u001b[39m\"\u001b[39m, \u001b[39m*\u001b[39m\u001b[39m*\u001b[39mbox)\n\u001b[0;32m    400\u001b[0m solver \u001b[39m=\u001b[39m make_solver(\u001b[39m*\u001b[39m\u001b[39m*\u001b[39msuggestion)\n\u001b[1;32m--> 401\u001b[0m solution, details \u001b[39m=\u001b[39m optimize(solver, f, maximize\u001b[39m=\u001b[39;49m\u001b[39mFalse\u001b[39;49;00m, max_evals\u001b[39m=\u001b[39;49mnum_evals,\n\u001b[0;32m    402\u001b[0m                              pmap\u001b[39m=\u001b[39;49mpmap, decoder\u001b[39m=\u001b[39;49mtree\u001b[39m.\u001b[39;49mdecode)\n\u001b[0;32m    403\u001b[0m \u001b[39mreturn\u001b[39;00m solution, details, suggestion\n",
      "File \u001b[1;32mc:\\Python310\\lib\\site-packages\\optunity\\api.py:245\u001b[0m, in \u001b[0;36moptimize\u001b[1;34m(solver, func, maximize, max_evals, pmap, decoder)\u001b[0m\n\u001b[0;32m    243\u001b[0m time \u001b[39m=\u001b[39m timeit\u001b[39m.\u001b[39mdefault_timer()\n\u001b[0;32m    244\u001b[0m \u001b[39mtry\u001b[39;00m:\n\u001b[1;32m--> 245\u001b[0m     solution, report \u001b[39m=\u001b[39m solver\u001b[39m.\u001b[39;49moptimize(f, maximize, pmap\u001b[39m=\u001b[39;49mpmap)\n\u001b[0;32m    246\u001b[0m \u001b[39mexcept\u001b[39;00m fun\u001b[39m.\u001b[39mMaximumEvaluationsException:\n\u001b[0;32m    247\u001b[0m     \u001b[39m# early stopping because maximum number of evaluations is reached\u001b[39;00m\n\u001b[0;32m    248\u001b[0m     \u001b[39m# retrieve solution from the call log\u001b[39;00m\n\u001b[0;32m    249\u001b[0m     report \u001b[39m=\u001b[39m \u001b[39mNone\u001b[39;00m\n",
      "File \u001b[1;32mc:\\Python310\\lib\\site-packages\\optunity\\solvers\\ParticleSwarm.py:271\u001b[0m, in \u001b[0;36mParticleSwarm.optimize\u001b[1;34m(self, f, maximize, pmap)\u001b[0m\n\u001b[0;32m    269\u001b[0m \u001b[39mfor\u001b[39;00m g \u001b[39min\u001b[39;00m \u001b[39mrange\u001b[39m(\u001b[39mself\u001b[39m\u001b[39m.\u001b[39mnum_generations):\n\u001b[0;32m    270\u001b[0m     fitnesses \u001b[39m=\u001b[39m pmap(evaluate, \u001b[39mlist\u001b[39m(\u001b[39mmap\u001b[39m(\u001b[39mself\u001b[39m\u001b[39m.\u001b[39mparticle2dict, pop)))\n\u001b[1;32m--> 271\u001b[0m     \u001b[39mfor\u001b[39;00m part, fitness \u001b[39min\u001b[39;00m \u001b[39mzip\u001b[39m(pop, fitnesses):\n\u001b[0;32m    272\u001b[0m         part\u001b[39m.\u001b[39mfitness \u001b[39m=\u001b[39m fit \u001b[39m*\u001b[39m util\u001b[39m.\u001b[39mscore(fitness)\n\u001b[0;32m    273\u001b[0m         \u001b[39mif\u001b[39;00m \u001b[39mnot\u001b[39;00m part\u001b[39m.\u001b[39mbest \u001b[39mor\u001b[39;00m part\u001b[39m.\u001b[39mbest_fitness \u001b[39m<\u001b[39m part\u001b[39m.\u001b[39mfitness:\n",
      "File \u001b[1;32mc:\\Python310\\lib\\site-packages\\optunity\\solvers\\ParticleSwarm.py:259\u001b[0m, in \u001b[0;36mParticleSwarm.optimize.<locals>.evaluate\u001b[1;34m(d)\u001b[0m\n\u001b[0;32m    257\u001b[0m \u001b[39m@functools\u001b[39m\u001b[39m.\u001b[39mwraps(f)\n\u001b[0;32m    258\u001b[0m \u001b[39mdef\u001b[39;00m \u001b[39mevaluate\u001b[39m(d):\n\u001b[1;32m--> 259\u001b[0m     \u001b[39mreturn\u001b[39;00m f(\u001b[39m*\u001b[39m\u001b[39m*\u001b[39md)\n",
      "File \u001b[1;32mc:\\Python310\\lib\\site-packages\\optunity\\functions.py:356\u001b[0m, in \u001b[0;36mmax_evals.<locals>.wrapper.<locals>.wrapped_f\u001b[1;34m(*args, **kwargs)\u001b[0m\n\u001b[0;32m    354\u001b[0m \u001b[39melse\u001b[39;00m:\n\u001b[0;32m    355\u001b[0m     wrapped_f\u001b[39m.\u001b[39mnum_evals \u001b[39m+\u001b[39m\u001b[39m=\u001b[39m \u001b[39m1\u001b[39m\n\u001b[1;32m--> 356\u001b[0m     \u001b[39mreturn\u001b[39;00m f(\u001b[39m*\u001b[39margs, \u001b[39m*\u001b[39m\u001b[39m*\u001b[39mkwargs)\n",
      "File \u001b[1;32mc:\\Python310\\lib\\site-packages\\optunity\\constraints.py:151\u001b[0m, in \u001b[0;36mviolations_defaulted.<locals>.wrapper.<locals>.wrapped_f\u001b[1;34m(*args, **kwargs)\u001b[0m\n\u001b[0;32m    148\u001b[0m \u001b[39m@functions\u001b[39m\u001b[39m.\u001b[39mwraps(f)\n\u001b[0;32m    149\u001b[0m \u001b[39mdef\u001b[39;00m \u001b[39mwrapped_f\u001b[39m(\u001b[39m*\u001b[39margs, \u001b[39m*\u001b[39m\u001b[39m*\u001b[39mkwargs):\n\u001b[0;32m    150\u001b[0m     \u001b[39mtry\u001b[39;00m:\n\u001b[1;32m--> 151\u001b[0m         \u001b[39mreturn\u001b[39;00m f(\u001b[39m*\u001b[39margs, \u001b[39m*\u001b[39m\u001b[39m*\u001b[39mkwargs)\n\u001b[0;32m    152\u001b[0m     \u001b[39mexcept\u001b[39;00m ConstraintViolation:\n\u001b[0;32m    153\u001b[0m         \u001b[39mreturn\u001b[39;00m default\n",
      "File \u001b[1;32mc:\\Python310\\lib\\site-packages\\optunity\\constraints.py:129\u001b[0m, in \u001b[0;36mconstrained.<locals>.wrapper.<locals>.wrapped_f\u001b[1;34m(*args, **kwargs)\u001b[0m\n\u001b[0;32m    127\u001b[0m \u001b[39mif\u001b[39;00m violations:\n\u001b[0;32m    128\u001b[0m     \u001b[39mraise\u001b[39;00m ConstraintViolation(violations, \u001b[39m*\u001b[39margs, \u001b[39m*\u001b[39m\u001b[39m*\u001b[39mkwargs)\n\u001b[1;32m--> 129\u001b[0m \u001b[39mreturn\u001b[39;00m f(\u001b[39m*\u001b[39margs, \u001b[39m*\u001b[39m\u001b[39m*\u001b[39mkwargs)\n",
      "File \u001b[1;32mc:\\Python310\\lib\\site-packages\\optunity\\constraints.py:266\u001b[0m, in \u001b[0;36mwrap_constraints.<locals>.func\u001b[1;34m(*args, **kwargs)\u001b[0m\n\u001b[0;32m    262\u001b[0m \u001b[39m@violations_defaulted\u001b[39m(default)\n\u001b[0;32m    263\u001b[0m \u001b[39m@constrained\u001b[39m(constraints)\n\u001b[0;32m    264\u001b[0m \u001b[39m@functions\u001b[39m\u001b[39m.\u001b[39mwraps(f)\n\u001b[0;32m    265\u001b[0m \u001b[39mdef\u001b[39;00m \u001b[39mfunc\u001b[39m(\u001b[39m*\u001b[39margs, \u001b[39m*\u001b[39m\u001b[39m*\u001b[39mkwargs):\n\u001b[1;32m--> 266\u001b[0m     \u001b[39mreturn\u001b[39;00m f(\u001b[39m*\u001b[39margs, \u001b[39m*\u001b[39m\u001b[39m*\u001b[39mkwargs)\n",
      "File \u001b[1;32mc:\\Python310\\lib\\site-packages\\optunity\\search_spaces.py:326\u001b[0m, in \u001b[0;36mSearchTree.wrap_decoder.<locals>.wrapped\u001b[1;34m(**kwargs)\u001b[0m\n\u001b[0;32m    323\u001b[0m \u001b[39m@functools\u001b[39m\u001b[39m.\u001b[39mwraps(f)\n\u001b[0;32m    324\u001b[0m \u001b[39mdef\u001b[39;00m \u001b[39mwrapped\u001b[39m(\u001b[39m*\u001b[39m\u001b[39m*\u001b[39mkwargs):\n\u001b[0;32m    325\u001b[0m     decoded \u001b[39m=\u001b[39m \u001b[39mself\u001b[39m\u001b[39m.\u001b[39mdecode(kwargs)\n\u001b[1;32m--> 326\u001b[0m     \u001b[39mreturn\u001b[39;00m f(\u001b[39m*\u001b[39m\u001b[39m*\u001b[39mdecoded)\n",
      "File \u001b[1;32mc:\\Python310\\lib\\site-packages\\optunity\\functions.py:301\u001b[0m, in \u001b[0;36mlogged.<locals>.wrapped_f\u001b[1;34m(*args, **kwargs)\u001b[0m\n\u001b[0;32m    299\u001b[0m value \u001b[39m=\u001b[39m wrapped_f\u001b[39m.\u001b[39mcall_log\u001b[39m.\u001b[39mget(\u001b[39m*\u001b[39margs, \u001b[39m*\u001b[39m\u001b[39m*\u001b[39mkwargs)\n\u001b[0;32m    300\u001b[0m \u001b[39mif\u001b[39;00m value \u001b[39mis\u001b[39;00m \u001b[39mNone\u001b[39;00m:\n\u001b[1;32m--> 301\u001b[0m     value \u001b[39m=\u001b[39m f(\u001b[39m*\u001b[39margs, \u001b[39m*\u001b[39m\u001b[39m*\u001b[39mkwargs)\n\u001b[0;32m    302\u001b[0m     wrapped_f\u001b[39m.\u001b[39mcall_log\u001b[39m.\u001b[39minsert(value, \u001b[39m*\u001b[39margs, \u001b[39m*\u001b[39m\u001b[39m*\u001b[39mkwargs)\n\u001b[0;32m    303\u001b[0m \u001b[39mreturn\u001b[39;00m value\n",
      "File \u001b[1;32mc:\\Python310\\lib\\site-packages\\optunity\\cross_validation.py:403\u001b[0m, in \u001b[0;36mcross_validated_callable.__call__\u001b[1;34m(self, *args, **kwargs)\u001b[0m\n\u001b[0;32m    401\u001b[0m             kwargs[\u001b[39m'\u001b[39m\u001b[39my_train\u001b[39m\u001b[39m'\u001b[39m] \u001b[39m=\u001b[39m select(\u001b[39mself\u001b[39m\u001b[39m.\u001b[39my, rows_train)\n\u001b[0;32m    402\u001b[0m             kwargs[\u001b[39m'\u001b[39m\u001b[39my_test\u001b[39m\u001b[39m'\u001b[39m] \u001b[39m=\u001b[39m select(\u001b[39mself\u001b[39m\u001b[39m.\u001b[39my, rows_test)\n\u001b[1;32m--> 403\u001b[0m         scores\u001b[39m.\u001b[39mappend(\u001b[39mself\u001b[39m\u001b[39m.\u001b[39mf(\u001b[39m*\u001b[39m\u001b[39m*\u001b[39mkwargs))\n\u001b[0;32m    404\u001b[0m \u001b[39mreturn\u001b[39;00m \u001b[39mself\u001b[39m\u001b[39m.\u001b[39mreduce(scores)\n",
      "\u001b[1;32md:\\Projetos\\Interpolate-carbono\\sklearn\\MSE_tutorial.ipynb Cell 14\u001b[0m in \u001b[0;36mcompute_mse_all_tuned.<locals>.tune_cv\u001b[1;34m(x_train, y_train, x_test, y_test, kernel, C, gamma, degree, coef0)\u001b[0m\n\u001b[0;32m     <a href='vscode-notebook-cell:/d%3A/Projetos/Interpolate-carbono/sklearn/MSE_tutorial.ipynb#X16sZmlsZQ%3D%3D?line=12'>13</a>\u001b[0m \u001b[39melse\u001b[39;00m:\n\u001b[0;32m     <a href='vscode-notebook-cell:/d%3A/Projetos/Interpolate-carbono/sklearn/MSE_tutorial.ipynb#X16sZmlsZQ%3D%3D?line=13'>14</a>\u001b[0m     \u001b[39mraise\u001b[39;00m ArgumentError(\u001b[39m\"\u001b[39m\u001b[39mUnknown kernel function: \u001b[39m\u001b[39m%s\u001b[39;00m\u001b[39m\"\u001b[39m \u001b[39m%\u001b[39m kernel)\n\u001b[1;32m---> <a href='vscode-notebook-cell:/d%3A/Projetos/Interpolate-carbono/sklearn/MSE_tutorial.ipynb#X16sZmlsZQ%3D%3D?line=14'>15</a>\u001b[0m model\u001b[39m.\u001b[39;49mfit(x_train, y_train)\n\u001b[0;32m     <a href='vscode-notebook-cell:/d%3A/Projetos/Interpolate-carbono/sklearn/MSE_tutorial.ipynb#X16sZmlsZQ%3D%3D?line=16'>17</a>\u001b[0m predictions \u001b[39m=\u001b[39m model\u001b[39m.\u001b[39mpredict(x_test)\n\u001b[0;32m     <a href='vscode-notebook-cell:/d%3A/Projetos/Interpolate-carbono/sklearn/MSE_tutorial.ipynb#X16sZmlsZQ%3D%3D?line=17'>18</a>\u001b[0m \u001b[39mreturn\u001b[39;00m optunity\u001b[39m.\u001b[39mmetrics\u001b[39m.\u001b[39mmse(y_test, predictions)\n",
      "File \u001b[1;32mc:\\Python310\\lib\\site-packages\\sklearn\\svm\\_base.py:251\u001b[0m, in \u001b[0;36mBaseLibSVM.fit\u001b[1;34m(self, X, y, sample_weight)\u001b[0m\n\u001b[0;32m    248\u001b[0m     \u001b[39mprint\u001b[39m(\u001b[39m\"\u001b[39m\u001b[39m[LibSVM]\u001b[39m\u001b[39m\"\u001b[39m, end\u001b[39m=\u001b[39m\u001b[39m\"\u001b[39m\u001b[39m\"\u001b[39m)\n\u001b[0;32m    250\u001b[0m seed \u001b[39m=\u001b[39m rnd\u001b[39m.\u001b[39mrandint(np\u001b[39m.\u001b[39miinfo(\u001b[39m\"\u001b[39m\u001b[39mi\u001b[39m\u001b[39m\"\u001b[39m)\u001b[39m.\u001b[39mmax)\n\u001b[1;32m--> 251\u001b[0m fit(X, y, sample_weight, solver_type, kernel, random_seed\u001b[39m=\u001b[39;49mseed)\n\u001b[0;32m    252\u001b[0m \u001b[39m# see comment on the other call to np.iinfo in this file\u001b[39;00m\n\u001b[0;32m    254\u001b[0m \u001b[39mself\u001b[39m\u001b[39m.\u001b[39mshape_fit_ \u001b[39m=\u001b[39m X\u001b[39m.\u001b[39mshape \u001b[39mif\u001b[39;00m \u001b[39mhasattr\u001b[39m(X, \u001b[39m\"\u001b[39m\u001b[39mshape\u001b[39m\u001b[39m\"\u001b[39m) \u001b[39melse\u001b[39;00m (n_samples,)\n",
      "File \u001b[1;32mc:\\Python310\\lib\\site-packages\\sklearn\\svm\\_base.py:333\u001b[0m, in \u001b[0;36mBaseLibSVM._dense_fit\u001b[1;34m(self, X, y, sample_weight, solver_type, kernel, random_seed)\u001b[0m\n\u001b[0;32m    319\u001b[0m libsvm\u001b[39m.\u001b[39mset_verbosity_wrap(\u001b[39mself\u001b[39m\u001b[39m.\u001b[39mverbose)\n\u001b[0;32m    321\u001b[0m \u001b[39m# we don't pass **self.get_params() to allow subclasses to\u001b[39;00m\n\u001b[0;32m    322\u001b[0m \u001b[39m# add other parameters to __init__\u001b[39;00m\n\u001b[0;32m    323\u001b[0m (\n\u001b[0;32m    324\u001b[0m     \u001b[39mself\u001b[39m\u001b[39m.\u001b[39msupport_,\n\u001b[0;32m    325\u001b[0m     \u001b[39mself\u001b[39m\u001b[39m.\u001b[39msupport_vectors_,\n\u001b[0;32m    326\u001b[0m     \u001b[39mself\u001b[39m\u001b[39m.\u001b[39m_n_support,\n\u001b[0;32m    327\u001b[0m     \u001b[39mself\u001b[39m\u001b[39m.\u001b[39mdual_coef_,\n\u001b[0;32m    328\u001b[0m     \u001b[39mself\u001b[39m\u001b[39m.\u001b[39mintercept_,\n\u001b[0;32m    329\u001b[0m     \u001b[39mself\u001b[39m\u001b[39m.\u001b[39m_probA,\n\u001b[0;32m    330\u001b[0m     \u001b[39mself\u001b[39m\u001b[39m.\u001b[39m_probB,\n\u001b[0;32m    331\u001b[0m     \u001b[39mself\u001b[39m\u001b[39m.\u001b[39mfit_status_,\n\u001b[0;32m    332\u001b[0m     \u001b[39mself\u001b[39m\u001b[39m.\u001b[39m_num_iter,\n\u001b[1;32m--> 333\u001b[0m ) \u001b[39m=\u001b[39m libsvm\u001b[39m.\u001b[39;49mfit(\n\u001b[0;32m    334\u001b[0m     X,\n\u001b[0;32m    335\u001b[0m     y,\n\u001b[0;32m    336\u001b[0m     svm_type\u001b[39m=\u001b[39;49msolver_type,\n\u001b[0;32m    337\u001b[0m     sample_weight\u001b[39m=\u001b[39;49msample_weight,\n\u001b[0;32m    338\u001b[0m     class_weight\u001b[39m=\u001b[39;49m\u001b[39mself\u001b[39;49m\u001b[39m.\u001b[39;49mclass_weight_,\n\u001b[0;32m    339\u001b[0m     kernel\u001b[39m=\u001b[39;49mkernel,\n\u001b[0;32m    340\u001b[0m     C\u001b[39m=\u001b[39;49m\u001b[39mself\u001b[39;49m\u001b[39m.\u001b[39;49mC,\n\u001b[0;32m    341\u001b[0m     nu\u001b[39m=\u001b[39;49m\u001b[39mself\u001b[39;49m\u001b[39m.\u001b[39;49mnu,\n\u001b[0;32m    342\u001b[0m     probability\u001b[39m=\u001b[39;49m\u001b[39mself\u001b[39;49m\u001b[39m.\u001b[39;49mprobability,\n\u001b[0;32m    343\u001b[0m     degree\u001b[39m=\u001b[39;49m\u001b[39mself\u001b[39;49m\u001b[39m.\u001b[39;49mdegree,\n\u001b[0;32m    344\u001b[0m     shrinking\u001b[39m=\u001b[39;49m\u001b[39mself\u001b[39;49m\u001b[39m.\u001b[39;49mshrinking,\n\u001b[0;32m    345\u001b[0m     tol\u001b[39m=\u001b[39;49m\u001b[39mself\u001b[39;49m\u001b[39m.\u001b[39;49mtol,\n\u001b[0;32m    346\u001b[0m     cache_size\u001b[39m=\u001b[39;49m\u001b[39mself\u001b[39;49m\u001b[39m.\u001b[39;49mcache_size,\n\u001b[0;32m    347\u001b[0m     coef0\u001b[39m=\u001b[39;49m\u001b[39mself\u001b[39;49m\u001b[39m.\u001b[39;49mcoef0,\n\u001b[0;32m    348\u001b[0m     gamma\u001b[39m=\u001b[39;49m\u001b[39mself\u001b[39;49m\u001b[39m.\u001b[39;49m_gamma,\n\u001b[0;32m    349\u001b[0m     epsilon\u001b[39m=\u001b[39;49m\u001b[39mself\u001b[39;49m\u001b[39m.\u001b[39;49mepsilon,\n\u001b[0;32m    350\u001b[0m     max_iter\u001b[39m=\u001b[39;49m\u001b[39mself\u001b[39;49m\u001b[39m.\u001b[39;49mmax_iter,\n\u001b[0;32m    351\u001b[0m     random_seed\u001b[39m=\u001b[39;49mrandom_seed,\n\u001b[0;32m    352\u001b[0m )\n\u001b[0;32m    354\u001b[0m \u001b[39mself\u001b[39m\u001b[39m.\u001b[39m_warn_from_fit_status()\n",
      "File \u001b[1;32msklearn\\svm\\_libsvm.pyx:237\u001b[0m, in \u001b[0;36msklearn.svm._libsvm.fit\u001b[1;34m()\u001b[0m\n",
      "\u001b[1;31mKeyboardInterrupt\u001b[0m: "
     ]
    }
   ],
   "source": [
    "compute_mse_all_tuned()"
   ]
  }
 ],
 "metadata": {
  "kernelspec": {
   "display_name": "Python 3.10.5 64-bit",
   "language": "python",
   "name": "python3"
  },
  "language_info": {
   "codemirror_mode": {
    "name": "ipython",
    "version": 3
   },
   "file_extension": ".py",
   "mimetype": "text/x-python",
   "name": "python",
   "nbconvert_exporter": "python",
   "pygments_lexer": "ipython3",
   "version": "3.10.5"
  },
  "orig_nbformat": 4,
  "vscode": {
   "interpreter": {
    "hash": "369f2c481f4da34e4445cda3fffd2e751bd1c4d706f27375911949ba6bb62e1c"
   }
  }
 },
 "nbformat": 4,
 "nbformat_minor": 2
}
