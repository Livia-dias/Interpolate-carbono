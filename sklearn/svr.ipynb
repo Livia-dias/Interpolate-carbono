{
 "cells": [
  {
   "cell_type": "code",
   "execution_count": null,
   "metadata": {},
   "outputs": [],
   "source": [
    "import numpy as np\n",
    "import matplotlib.pyplot as plt\n",
    "import pandas as pd\n",
    "from sklearn.svm import SVR\n",
    "import os\n",
    "import geopandas as gpd\n",
    "from tobler.area_weighted import area_interpolate\n",
    "from tobler.dasymetric import masked_area_interpolate\n",
    "\n",
    "from geocube.api.core import make_geocube\n",
    "from geocube.rasterize import rasterize_points_griddata\n",
    "import rasterio"
   ]
  },
  {
   "cell_type": "code",
   "execution_count": null,
   "metadata": {},
   "outputs": [],
   "source": [
    "path = os.getcwd()+ '\\..\\Dados vetoriais\\Pontos amostrais_Piracicaba\\Dados_227pts_original_06_03_2021.shp'\n",
    "pontos_pira = gpd.read_file(path)"
   ]
  },
  {
   "cell_type": "code",
   "execution_count": null,
   "metadata": {},
   "outputs": [],
   "source": [
    "path2 = os.getcwd()+ '\\..\\Dados vetoriais\\Piracicaba\\Perimetro_Piracicaba.shp'\n",
    "perimetro_pira = gpd.read_file(path2)\n"
   ]
  },
  {
   "cell_type": "code",
   "execution_count": null,
   "metadata": {},
   "outputs": [],
   "source": [
    "xizes = []\n",
    "ypsolons = []\n",
    "\n",
    "for geom in perimetro_pira.exterior:\n",
    "    if(geom == None):\n",
    "        continue\n",
    "    xizes.append(geom.coords.xy[0])\n",
    "    ypsolons.append(geom.coords.xy[1])\n",
    "\n",
    "xizes = list(np.concatenate(xizes).flat)\n",
    "ypsolons = list(np.concatenate(ypsolons).flat)\n",
    "\n",
    "all_dots = [list(xy) for xy in zip(xizes, ypsolons)]"
   ]
  },
  {
   "cell_type": "code",
   "execution_count": null,
   "metadata": {},
   "outputs": [],
   "source": [
    "# split the data into featutes and target variable seperately\n",
    "variaveis = pontos_pira.iloc[:, [1,2]].values # features set\n",
    "argila = pontos_pira.iloc[:, 6].values # set of study variable"
   ]
  },
  {
   "cell_type": "code",
   "execution_count": null,
   "metadata": {},
   "outputs": [],
   "source": [
    "argila = argila.reshape(-1,1)"
   ]
  },
  {
   "cell_type": "code",
   "execution_count": null,
   "metadata": {},
   "outputs": [],
   "source": [
    "from sklearn.preprocessing import StandardScaler\n",
    "StdS_X = StandardScaler()\n",
    "StdS_y = StandardScaler()\n",
    "variaveis = StdS_X.fit_transform(variaveis)\n",
    "argila = StdS_y.fit_transform(argila)"
   ]
  },
  {
   "cell_type": "code",
   "execution_count": null,
   "metadata": {},
   "outputs": [],
   "source": [
    "# import the model\n",
    "from sklearn.svm import SVR\n",
    "# create the model object\n",
    "regressor = SVR(kernel = 'rbf')\n",
    "# fit the model on the data\n",
    "regressor.fit(variaveis, argila.ravel())"
   ]
  },
  {
   "cell_type": "code",
   "execution_count": null,
   "metadata": {},
   "outputs": [],
   "source": [
    "A=regressor.predict(StdS_X.transform(np.vstack((xizes, ypsolons)).T))"
   ]
  },
  {
   "cell_type": "code",
   "execution_count": null,
   "metadata": {},
   "outputs": [],
   "source": [
    "path = os.getcwd()+ '\\..\\Dados vetoriais\\Pontos amostrais_Piracicaba\\Dados_227pts_original_06_03_2021.shp'\n",
    "pontos_pira_gpd = gpd.read_file(path)"
   ]
  },
  {
   "cell_type": "code",
   "execution_count": null,
   "metadata": {},
   "outputs": [],
   "source": [
    "path2 = os.getcwd()+ '\\..\\Dados vetoriais\\Piracicaba\\Perimetro_Piracicaba.shp'\n",
    "mapa_pira = gpd.read_file(path2)"
   ]
  },
  {
   "cell_type": "code",
   "execution_count": null,
   "metadata": {},
   "outputs": [],
   "source": [
    "import json\n",
    "from types import SimpleNamespace\n",
    "\n",
    "mapa_pira[\"constant\"] = 1\n",
    "mapa_pira_dissolved = mapa_pira.dissolve(by = \"constant\").reset_index(drop = True)\n",
    "\n",
    "asd = mapa_pira_dissolved.geometry\n",
    "data = asd.to_json()\n",
    "\n",
    "x = json.loads(data, object_hook=lambda d: SimpleNamespace(**d))\n",
    "coordinates = x.features[0].geometry.coordinates\n",
    "geometries = [item for sublist in coordinates for item in sublist]\n",
    "geometries2 = [item for sublist in geometries for item in sublist]\n",
    "\n",
    "geometries2.sort(key=lambda x:x[0])"
   ]
  },
  {
   "cell_type": "code",
   "execution_count": null,
   "metadata": {},
   "outputs": [],
   "source": [
    "import numpy as np\n",
    "from shapely.geometry import Point\n",
    "from shapely.ops import unary_union\n",
    "import geopandas as gpd\n",
    "\n",
    "def generate_grid_in_polygon(spacing, polygon):\n",
    "    ''' This Function generates evenly spaced points within the given GeoDataFrame.\n",
    "        The parameter 'spacing' defines the distance between the points in coordinate units. '''\n",
    "    \n",
    "    # Convert the GeoDataFrame to a single polygon\n",
    "    poly_in = unary_union([poly for poly in polygon.geometry])\n",
    "\n",
    "    # Get the bounds of the polygon\n",
    "    minx, miny, maxx, maxy = poly_in.bounds    \n",
    "    \n",
    "    # Now generate the entire grid\n",
    "    x_coords = list(np.arange(np.floor(minx), int(np.ceil(maxx)), spacing))\n",
    "    y_coords = list(np.arange(np.floor(miny), int(np.ceil(maxy)), spacing))\n",
    "    \n",
    "    grid = [Point(x) for x in zip(np.meshgrid(x_coords, y_coords)[0].flatten(), np.meshgrid(x_coords, y_coords)[1].flatten())]\n",
    "\n",
    "    # Finally only keep the points within the polygon\n",
    "    list_of_points = [point for point in grid if point.within(poly_in)]\n",
    "    # list_of_points = [point for point in grid if poly_in.intersects(point)]\n",
    "\n",
    "    return list_of_points"
   ]
  },
  {
   "cell_type": "code",
   "execution_count": null,
   "metadata": {},
   "outputs": [],
   "source": [
    "points_in_poly = generate_grid_in_polygon(500, mapa_pira_dissolved)\n",
    "points_in_poly_gdf = gpd.GeoDataFrame(geometry=points_in_poly)\n",
    "\n",
    "pointList = [[point.x, point.y] for point in points_in_poly]\n",
    "\n",
    "xgerados = [point.x for point in points_in_poly]\n",
    "ygerados = [point.y for point in points_in_poly]"
   ]
  },
  {
   "cell_type": "code",
   "execution_count": null,
   "metadata": {},
   "outputs": [],
   "source": [
    "fig, ax = plt.subplots(figsize = (50,50))\n",
    "mapa_pira_dissolved.plot(ax=ax,facecolor='none', edgecolor='k')\n",
    "points_in_poly_gdf.plot(ax=ax)"
   ]
  },
  {
   "cell_type": "code",
   "execution_count": null,
   "metadata": {},
   "outputs": [],
   "source": [
    "B=regressor.predict(StdS_X.transform(pointList))"
   ]
  },
  {
   "cell_type": "code",
   "execution_count": null,
   "metadata": {},
   "outputs": [],
   "source": [
    "dataFrameGerado = pd.DataFrame({'X':xgerados, 'Y': ygerados, 'Argila': B})"
   ]
  },
  {
   "cell_type": "code",
   "execution_count": null,
   "metadata": {},
   "outputs": [],
   "source": [
    "mapa_gerado = gpd.GeoDataFrame(dataFrameGerado, geometry=gpd.points_from_xy(dataFrameGerado.X, dataFrameGerado.Y), crs = mapa_pira.crs)\n",
    "mapa_gerado.plot()"
   ]
  },
  {
   "cell_type": "code",
   "execution_count": null,
   "metadata": {},
   "outputs": [],
   "source": [
    "mapa_gerado[\"Argila\"] = StdS_y.inverse_transform(B.reshape(-1,1))"
   ]
  },
  {
   "cell_type": "code",
   "execution_count": null,
   "metadata": {},
   "outputs": [],
   "source": [
    "fig, ax = plt.subplots(figsize = (10,10))\n",
    "mapa_gerado.plot(\"Argila\",ax=ax, legend=True)"
   ]
  },
  {
   "cell_type": "code",
   "execution_count": null,
   "metadata": {},
   "outputs": [],
   "source": [
    "# out_grid = make_geocube(vector_data=mapa_gerado, measurements=[\"Argila\"], resolution=(-30,30),rasterize_function=rasterize_points_griddata)\n",
    "# out_grid[\"Argila\"].rio.to_raster(\"svr_out.tif\")"
   ]
  },
  {
   "cell_type": "code",
   "execution_count": null,
   "metadata": {},
   "outputs": [],
   "source": [
    "# src = rasterio.open(\"svr_out.tif\")\n",
    "\n",
    "# plt.imshow(src.read(1), cmap=\"pink\")\n",
    "# plt.show()\n",
    "# src.close()"
   ]
  }
 ],
 "metadata": {
  "kernelspec": {
   "display_name": "Python 3.10.5 64-bit",
   "language": "python",
   "name": "python3"
  },
  "language_info": {
   "codemirror_mode": {
    "name": "ipython",
    "version": 3
   },
   "file_extension": ".py",
   "mimetype": "text/x-python",
   "name": "python",
   "nbconvert_exporter": "python",
   "pygments_lexer": "ipython3",
   "version": "3.10.5"
  },
  "orig_nbformat": 4,
  "vscode": {
   "interpreter": {
    "hash": "369f2c481f4da34e4445cda3fffd2e751bd1c4d706f27375911949ba6bb62e1c"
   }
  }
 },
 "nbformat": 4,
 "nbformat_minor": 2
}
